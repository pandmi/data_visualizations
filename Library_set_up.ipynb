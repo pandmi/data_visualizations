{
 "cells": [
  {
   "cell_type": "code",
   "execution_count": null,
   "metadata": {},
   "outputs": [],
   "source": [
    "!pip install pandas\n",
    "!pip install matplotlib\n",
    "!pip install seaborn\n",
    "!pip install requests  \n",
    "!pip install numpy \n",
    "!pip install ipywidgets\n",
    "!pip install http.client\n",
    "!pip install sklearn.datasets \n",
    "!pip install sqlalchemy\n",
    "!pip install pathlib\n",
    "!python -m pip install --upgrade pip\n",
    "!pip install ipywidgets\n",
    "!jupyter nbextension enable --py widgetsnbextension\n",
    "!pip install jupyterthemes\n",
    "!pip install sqlalchemy\n",
    "!pip install qds-sdk\n",
    "!pip install nb2xls\n",
    "!pip install voila\n",
    "!pip install jupyter_contrib_nbextensions"
   ]
  }
 ],
 "metadata": {
  "kernelspec": {
   "display_name": "Python 3",
   "language": "python",
   "name": "python3"
  },
  "language_info": {
   "codemirror_mode": {
    "name": "ipython",
    "version": 3
   },
   "file_extension": ".py",
   "mimetype": "text/x-python",
   "name": "python",
   "nbconvert_exporter": "python",
   "pygments_lexer": "ipython3",
   "version": "3.7.1"
  }
 },
 "nbformat": 4,
 "nbformat_minor": 2
}
